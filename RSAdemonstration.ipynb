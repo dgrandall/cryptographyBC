{
 "cells": [
  {
   "cell_type": "code",
   "execution_count": 8,
   "id": "cde3179c",
   "metadata": {},
   "outputs": [],
   "source": [
    "import math "
   ]
  },
  {
   "cell_type": "code",
   "execution_count": 9,
   "id": "f4915748",
   "metadata": {},
   "outputs": [],
   "source": [
    "# STEP 1\n",
    "p = 3 # ideally this would need to be a very large prime > 2**2048 \n",
    "q = 7 # ideally this would need to be a very large prime > 2**2048 "
   ]
  },
  {
   "cell_type": "code",
   "execution_count": 10,
   "id": "a14130e6",
   "metadata": {},
   "outputs": [
    {
     "name": "stdout",
     "output_type": "stream",
     "text": [
      "n = 21\n"
     ]
    }
   ],
   "source": [
    "# STEP 2 \n",
    "n = p *q \n",
    "print(\"n =\", n)"
   ]
  },
  {
   "cell_type": "code",
   "execution_count": 11,
   "id": "6a25a19d",
   "metadata": {},
   "outputs": [],
   "source": [
    "# STEP 3 \n",
    "phi = (p-1)*(q-1) # in this context, phi means the coprime of N.The number of prime integers between 1 and N that are not prime factors of N "
   ]
  },
  {
   "cell_type": "code",
   "execution_count": 17,
   "id": "a92e252c",
   "metadata": {},
   "outputs": [
    {
     "name": "stdout",
     "output_type": "stream",
     "text": [
      "e = 5\n"
     ]
    }
   ],
   "source": [
    "# STEP 4 \n",
    "e = 2 # start at 2, the first prime number  \n",
    "while(e<phi):# run this until e = phi \n",
    "    if (math.gcd(e,phi)==1): # at the first occurence where e and phi do not share any common factors then e will become that number\n",
    "        break \n",
    "    else: # if e and phi share factors...  \n",
    "        e +=1 # increase e by 1 and continue running the loop \n",
    "        \n",
    "print(\"e =\",e)"
   ]
  },
  {
   "cell_type": "code",
   "execution_count": 18,
   "id": "357f6038",
   "metadata": {},
   "outputs": [
    {
     "name": "stdout",
     "output_type": "stream",
     "text": [
      "d = 5.0\n"
     ]
    }
   ],
   "source": [
    "# STEP 5\n",
    "k = 2 # the first prime number \n",
    "d = ((k*phi)+1)/e \n",
    "print(\"d =\",d)"
   ]
  },
  {
   "cell_type": "code",
   "execution_count": 20,
   "id": "506cbc46",
   "metadata": {},
   "outputs": [
    {
     "name": "stdout",
     "output_type": "stream",
     "text": [
      "Public key: (5, 21)\n",
      "Private key: (5.0, 21)\n"
     ]
    }
   ],
   "source": [
    "print(f'Public key: {e,n}')\n",
    "print(f'Private key: {d,n}')"
   ]
  },
  {
   "cell_type": "code",
   "execution_count": 21,
   "id": "0a65d0a7",
   "metadata": {},
   "outputs": [
    {
     "name": "stdout",
     "output_type": "stream",
     "text": [
      "Original message: 11\n"
     ]
    }
   ],
   "source": [
    "# PLAINTEXT \n",
    "msg = 11 # 11th letter in the alphabet, k \n",
    "print(f'Original message: {msg}')"
   ]
  },
  {
   "cell_type": "code",
   "execution_count": 24,
   "id": "bc379983",
   "metadata": {},
   "outputs": [
    {
     "name": "stdout",
     "output_type": "stream",
     "text": [
      "Encrypted message: 2.0\n"
     ]
    }
   ],
   "source": [
    "# ENCRYPTION \n",
    "C = (msg**e)%n  \n",
    "C = float(C)\n",
    "print(f'Encrypted message: {C }')"
   ]
  },
  {
   "cell_type": "code",
   "execution_count": 25,
   "id": "1baeae6a",
   "metadata": {},
   "outputs": [
    {
     "name": "stdout",
     "output_type": "stream",
     "text": [
      "Decrypted message: 11.0\n"
     ]
    }
   ],
   "source": [
    "M = (C**d)%n  \n",
    "M = float(M)\n",
    "print(f'Decrypted message: {M}')"
   ]
  }
 ],
 "metadata": {
  "kernelspec": {
   "display_name": "Python 3 (ipykernel)",
   "language": "python",
   "name": "python3"
  },
  "language_info": {
   "codemirror_mode": {
    "name": "ipython",
    "version": 3
   },
   "file_extension": ".py",
   "mimetype": "text/x-python",
   "name": "python",
   "nbconvert_exporter": "python",
   "pygments_lexer": "ipython3",
   "version": "3.10.6"
  }
 },
 "nbformat": 4,
 "nbformat_minor": 5
}
