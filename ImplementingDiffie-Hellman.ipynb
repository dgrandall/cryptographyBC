{
 "cells": [
  {
   "cell_type": "code",
   "execution_count": 2,
   "id": "e30b27d4",
   "metadata": {},
   "outputs": [],
   "source": [
    "from random import getrandbits"
   ]
  },
  {
   "cell_type": "code",
   "execution_count": 39,
   "id": "44b174b6",
   "metadata": {},
   "outputs": [],
   "source": [
    "# publicly known parameters, in reality these need to be large primes \n",
    "# The Diffie-Hellman method works best if p = 2g+1 where g is also a prime. https://www.math.ucla.edu/~baker/40/handouts/rev_DH/node1.html\n",
    "g = 5 # generator \n",
    "p = 11 # prime modulus \n",
    "\n",
    "# the strength of the key \n",
    "bits = 32"
   ]
  },
  {
   "cell_type": "code",
   "execution_count": 40,
   "id": "aab30b36",
   "metadata": {},
   "outputs": [
    {
     "name": "stdout",
     "output_type": "stream",
     "text": [
      "Help on built-in function pow in module builtins:\n",
      "\n",
      "pow(base, exp, mod=None)\n",
      "    Equivalent to base**exp with 2 arguments or base**exp % mod with 3 arguments\n",
      "    \n",
      "    Some types, such as ints, are able to use a more efficient algorithm when\n",
      "    invoked using the three argument form.\n",
      "\n"
     ]
    }
   ],
   "source": [
    "# explanation of how the \"pow\" function works \n",
    "help(pow)"
   ]
  },
  {
   "cell_type": "code",
   "execution_count": 41,
   "id": "723c9a97",
   "metadata": {},
   "outputs": [],
   "source": [
    "# Alice \n",
    "a = getrandbits(bits) # this is her secret key \n",
    "A = pow(g,a,p) # Alice's public transmission to Bob"
   ]
  },
  {
   "cell_type": "code",
   "execution_count": 42,
   "id": "c47dd338",
   "metadata": {},
   "outputs": [],
   "source": [
    "# Bob \n",
    "b = getrandbits(bits) # this is his secret key \n",
    "B = pow(g,b,p) # Bob's public transmission to Alice"
   ]
  },
  {
   "cell_type": "code",
   "execution_count": 43,
   "id": "d9ffcbf7",
   "metadata": {},
   "outputs": [],
   "source": [
    "# Generate the shared key \n",
    "K1 = pow(B,a,p) # created by Alice \n",
    "K2 = pow(A,b,p) # created by Bob "
   ]
  },
  {
   "cell_type": "code",
   "execution_count": 44,
   "id": "e43ecdd0",
   "metadata": {},
   "outputs": [
    {
     "name": "stdout",
     "output_type": "stream",
     "text": [
      "Match\n"
     ]
    }
   ],
   "source": [
    "# verify that both keys are equal \n",
    "if (K1 == K2): \n",
    "    print('Match')\n",
    "else: \n",
    "    print('DO NOT MATCH')"
   ]
  },
  {
   "cell_type": "code",
   "execution_count": null,
   "id": "a4f62154",
   "metadata": {},
   "outputs": [],
   "source": []
  }
 ],
 "metadata": {
  "kernelspec": {
   "display_name": "Python 3 (ipykernel)",
   "language": "python",
   "name": "python3"
  },
  "language_info": {
   "codemirror_mode": {
    "name": "ipython",
    "version": 3
   },
   "file_extension": ".py",
   "mimetype": "text/x-python",
   "name": "python",
   "nbconvert_exporter": "python",
   "pygments_lexer": "ipython3",
   "version": "3.10.6"
  }
 },
 "nbformat": 4,
 "nbformat_minor": 5
}
